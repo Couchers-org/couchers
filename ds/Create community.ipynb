{
 "cells": [
  {
   "cell_type": "code",
   "execution_count": null,
   "id": "3f084378",
   "metadata": {},
   "outputs": [],
   "source": [
    "from dotenv import load_dotenv\n",
    "load_dotenv(\"admin.env\")"
   ]
  },
  {
   "cell_type": "code",
   "execution_count": null,
   "id": "2d8ca785",
   "metadata": {},
   "outputs": [],
   "source": [
    "import json\n",
    "from shapely.geometry import shape, MultiPolygon\n",
    "from couchers.db import session_scope\n",
    "from couchers.models import Cluster, ClusterRole, ClusterSubscription, Node, Page, PageType, PageVersion, Thread, Email, User\n",
    "from couchers.utils import to_multi, create_coordinate\n",
    "from couchers.tasks import enforce_community_memberships"
   ]
  },
  {
   "cell_type": "code",
   "execution_count": null,
   "id": "5f132168",
   "metadata": {},
   "outputs": [],
   "source": [
    "def create_community(session, geojson, lat, lng, name, cluster_description, main_page_title, main_page_content, admin_usernames, parent_node_id):\n",
    "    admins = [session.query(User).filter(User.username == username).one() for username in admin_usernames]\n",
    "    geom = shape(json.loads(geojson)[\"features\"][0][\"geometry\"])\n",
    "    node = Node(\n",
    "        geom=to_multi(geom.wkb),\n",
    "        parent_node_id=parent_node_id,\n",
    "    )\n",
    "    session.add(node)\n",
    "    cluster = Cluster(\n",
    "        name=name,\n",
    "        description=cluster_description,\n",
    "        parent_node=node,\n",
    "        is_official_cluster=True,\n",
    "    )\n",
    "    session.add(cluster)\n",
    "    main_page = Page(\n",
    "        parent_node=cluster.parent_node,\n",
    "        creator_user=admins[0],\n",
    "        owner_cluster=cluster,\n",
    "        type=PageType.main_page,\n",
    "        thread=Thread(),\n",
    "    )\n",
    "    session.add(main_page)\n",
    "    page_version = PageVersion(\n",
    "        page=main_page,\n",
    "        editor_user=admins[0],\n",
    "        title=main_page_title,\n",
    "        content=main_page_content,\n",
    "        geom=create_coordinate(lat, lng),\n",
    "        address=name,\n",
    "    )\n",
    "    session.add(page_version)\n",
    "    for admin in admins:\n",
    "        cluster.cluster_subscriptions.append(\n",
    "            ClusterSubscription(\n",
    "                user=admin,\n",
    "                role=ClusterRole.admin,\n",
    "            )\n",
    "        )\n",
    "    session.flush()\n",
    "    return node"
   ]
  },
  {
   "cell_type": "code",
   "execution_count": null,
   "id": "b9512b92",
   "metadata": {},
   "outputs": [],
   "source": [
    "world_geojson = \"\"\"{\n",
    "  \"type\": \"FeatureCollection\",\n",
    "  \"features\": [\n",
    "    {\n",
    "      \"type\": \"Feature\",\n",
    "      \"properties\": {},\n",
    "      \"geometry\": {\n",
    "        \"type\": \"Polygon\",\n",
    "        \"coordinates\": [[[-180,-90],[180,-90],[180,90],[-180,90],[-180,-90]]]\n",
    "      }\n",
    "    }\n",
    "  ]\n",
    "}\"\"\""
   ]
  },
  {
   "cell_type": "code",
   "execution_count": null,
   "id": "a19f5ed3",
   "metadata": {},
   "outputs": [],
   "source": [
    "with session_scope() as session:\n",
    "    w_id = create_community(session, world_geojson,0,0, \"Global Community\", \"This is the Global Couchers.org Community\", \"Global Community\", \"Welcome to the Global Couchers.org community!\", [\"aapeli\", \"itsi\", \"nolo\"], None).id\n",
    "    raise Exception(\"Don't run this!\")"
   ]
  }
 ],
 "metadata": {
  "kernelspec": {
   "display_name": "couchers",
   "language": "python",
   "name": "couchers"
  },
  "language_info": {
   "codemirror_mode": {
    "name": "ipython",
    "version": 3
   },
   "file_extension": ".py",
   "mimetype": "text/x-python",
   "name": "python",
   "nbconvert_exporter": "python",
   "pygments_lexer": "ipython3",
   "version": "3.8.10"
  }
 },
 "nbformat": 4,
 "nbformat_minor": 5
}
