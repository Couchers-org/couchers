{
 "cells": [
  {
   "cell_type": "code",
   "execution_count": null,
   "id": "3c033858",
   "metadata": {},
   "outputs": [],
   "source": [
    "from dotenv import load_dotenv\n",
    "load_dotenv(\"readonly.env\")"
   ]
  },
  {
   "cell_type": "code",
   "execution_count": null,
   "id": "3fbc2001",
   "metadata": {},
   "outputs": [],
   "source": [
    "from google.protobuf import message_factory, any_pb2\n",
    "from sqlalchemy.sql import or_\n",
    "\n",
    "from couchers.descriptor_pool import get_descriptor_pool\n",
    "from couchers.db import session_scope\n",
    "from couchers.models import APICall\n",
    "from couchers.utils import now\n",
    "from datetime import timedelta\n",
    "\n",
    "from trace_pb2 import Trace"
   ]
  },
  {
   "cell_type": "code",
   "execution_count": null,
   "id": "53b10a87",
   "metadata": {},
   "outputs": [],
   "source": [
    "TYPE_DOMAIN = \"type.couchers.org\""
   ]
  },
  {
   "cell_type": "code",
   "execution_count": null,
   "id": "c3560ecc",
   "metadata": {},
   "outputs": [],
   "source": [
    "pool = get_descriptor_pool()\n",
    "\n",
    "factory = message_factory.MessageFactory(pool=pool)"
   ]
  },
  {
   "cell_type": "code",
   "execution_count": null,
   "id": "8bc81bd6",
   "metadata": {},
   "outputs": [],
   "source": [
    "def get_method_descriptor(method):\n",
    "    _, service_name, method_name = method.split(\"/\")\n",
    "    service_descriptor = pool.FindServiceByName(service_name)\n",
    "    method_descriptor = service_descriptor.FindMethodByName(method_name)\n",
    "    return method_descriptor"
   ]
  },
  {
   "cell_type": "code",
   "execution_count": null,
   "id": "a5b1a538",
   "metadata": {},
   "outputs": [],
   "source": [
    "def get_proto(type_url):\n",
    "    domain, version, type_name = type_url.split(\"/\")\n",
    "    return factory.GetPrototype(pool.FindMessageTypeByName(type_name))"
   ]
  },
  {
   "cell_type": "code",
   "execution_count": null,
   "id": "807f2219",
   "metadata": {},
   "outputs": [],
   "source": [
    "def deserialize_trace(trace: Trace):\n",
    "    request_proto = get_proto(trace.request.type_url)\n",
    "    response_proto = get_proto(trace.response.type_url)\n",
    "    return request_proto.FromString(trace.request.value), response_proto.FromString(trace.response.value) if trace.response.value else None"
   ]
  },
  {
   "cell_type": "code",
   "execution_count": null,
   "id": "96817793",
   "metadata": {},
   "outputs": [],
   "source": [
    "traces = []\n",
    "\n",
    "with session_scope() as session:\n",
    "    trace_q = (session.query(APICall)\n",
    "               #.filter(APICall.method.startswith(\"/org.couchers.api.admin\"))\n",
    "               #.filter(APICall.method == \"/org.couchers.bugs.Bugs/ReportBug\")\n",
    "               .filter(APICall.time > now() - timedelta(hours=24))\n",
    "               #.filter(APICall.time < \"2021-06-30T21:08:55.054000+00:00\")\n",
    "               #.filter(or_(APICall.user_id == user_id, APICall.user_id == None))\n",
    "               .filter(APICall.status_code != None)\n",
    "               .filter(APICall.traceback != None)\n",
    "               .order_by(APICall.id.desc())\n",
    "              .limit(100))\n",
    "    for trace in trace_q.all():\n",
    "        mdesc = get_method_descriptor(trace.method)\n",
    "        input_url = f\"{TYPE_DOMAIN}/{trace.version}/{mdesc.input_type.full_name}\"\n",
    "        output_url = f\"{TYPE_DOMAIN}/{trace.version}/{mdesc.output_type.full_name}\"\n",
    "        trace = Trace(\n",
    "            id=trace.id,\n",
    "            version=trace.version,\n",
    "            time=trace.time.isoformat(),\n",
    "            method=trace.method,\n",
    "            status_code=trace.status_code,\n",
    "            duration=trace.duration,\n",
    "            user_id=trace.user_id,\n",
    "            request=any_pb2.Any(type_url=input_url, value=trace.request),\n",
    "            response=any_pb2.Any(type_url=output_url, value=trace.response),\n",
    "            traceback=trace.traceback,\n",
    "        )\n",
    "        traces.append(trace)"
   ]
  },
  {
   "cell_type": "code",
   "execution_count": null,
   "id": "a31bcf56",
   "metadata": {
    "scrolled": false
   },
   "outputs": [],
   "source": [
    "for trace in traces:\n",
    "    print(f\"*** Call ***\")\n",
    "    print(f\"status_code={trace.status_code or ('TB' if trace.traceback else 'OK')}\")\n",
    "    print(f\"method={trace.method}\")\n",
    "    print(f\"user_id={trace.user_id or 'NA'}\")\n",
    "    print(f\"time={trace.time}\")\n",
    "    print(f\"duration={trace.duration} ms\")\n",
    "    req, res = deserialize_trace(trace)\n",
    "    if req:\n",
    "        print(f\"Request: ({trace.request.type_url})\")\n",
    "        print(req)\n",
    "    if res:\n",
    "        print(f\"Response: ({trace.response.type_url})\")\n",
    "        print(res)\n",
    "    print()"
   ]
  },
  {
   "cell_type": "code",
   "execution_count": null,
   "id": "7c303b01",
   "metadata": {},
   "outputs": [],
   "source": []
  }
 ],
 "metadata": {
  "kernelspec": {
   "display_name": "couchers",
   "language": "python",
   "name": "couchers"
  },
  "language_info": {
   "codemirror_mode": {
    "name": "ipython",
    "version": 3
   },
   "file_extension": ".py",
   "mimetype": "text/x-python",
   "name": "python",
   "nbconvert_exporter": "python",
   "pygments_lexer": "ipython3",
   "version": "3.8.10"
  }
 },
 "nbformat": 4,
 "nbformat_minor": 5
}
