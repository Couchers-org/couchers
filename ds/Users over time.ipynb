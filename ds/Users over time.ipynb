{
 "cells": [
  {
   "cell_type": "code",
   "execution_count": null,
   "id": "08a87255",
   "metadata": {},
   "outputs": [],
   "source": [
    "from dotenv import load_dotenv\n",
    "load_dotenv(\"readonly.env\")"
   ]
  },
  {
   "cell_type": "code",
   "execution_count": null,
   "id": "d8eaad90",
   "metadata": {},
   "outputs": [],
   "source": [
    "import pandas as pd\n",
    "\n",
    "from couchers.db import session_scope\n",
    "from couchers.models import User"
   ]
  },
  {
   "cell_type": "code",
   "execution_count": null,
   "id": "027b28da",
   "metadata": {},
   "outputs": [],
   "source": [
    "with session_scope() as session:\n",
    "    joined = session.query(User.joined).filter(User.is_visible).all()"
   ]
  },
  {
   "cell_type": "code",
   "execution_count": null,
   "id": "07d15575",
   "metadata": {},
   "outputs": [],
   "source": [
    "joined.sort()\n",
    "\n",
    "joined_by_date = []\n",
    "s = 0\n",
    "for j in joined:\n",
    "    s += 1\n",
    "    joined_by_date.append((j[0], s))\n",
    "\n",
    "df = pd.DataFrame(joined_by_date)\n",
    "\n",
    "df.index = df[0]"
   ]
  },
  {
   "cell_type": "code",
   "execution_count": null,
   "id": "eeb7bcef",
   "metadata": {},
   "outputs": [],
   "source": [
    "df[1].plot()"
   ]
  },
  {
   "cell_type": "code",
   "execution_count": null,
   "id": "798b9912",
   "metadata": {},
   "outputs": [],
   "source": [
    "df[1].plot(logy=True)"
   ]
  },
  {
   "cell_type": "code",
   "execution_count": null,
   "id": "1b0149d5",
   "metadata": {},
   "outputs": [],
   "source": []
  }
 ],
 "metadata": {
  "kernelspec": {
   "display_name": "couchers",
   "language": "python",
   "name": "couchers"
  },
  "language_info": {
   "codemirror_mode": {
    "name": "ipython",
    "version": 3
   },
   "file_extension": ".py",
   "mimetype": "text/x-python",
   "name": "python",
   "nbconvert_exporter": "python",
   "pygments_lexer": "ipython3",
   "version": "3.8.10"
  }
 },
 "nbformat": 4,
 "nbformat_minor": 5
}
