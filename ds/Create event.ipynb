{
 "cells": [
  {
   "cell_type": "code",
   "execution_count": null,
   "id": "e5150e74",
   "metadata": {},
   "outputs": [],
   "source": [
    "import grpc\n",
    "from proto import account_pb2, account_pb2_grpc, events_pb2, events_pb2_grpc\n",
    "from google.protobuf import empty_pb2\n",
    "import pytz\n",
    "from datetime import datetime, timedelta\n",
    "from couchers.utils import Timestamp_from_datetime\n",
    "\n",
    "utc = pytz.UTC"
   ]
  },
  {
   "cell_type": "code",
   "execution_count": null,
   "id": "7dfe0f68",
   "metadata": {},
   "outputs": [],
   "source": [
    "class CookieCreds:\n",
    "    def __init__(self, cookie_name, cookie_value):\n",
    "        self.cookie_name = cookie_name\n",
    "        self.cookie_value = cookie_value\n",
    "        \n",
    "    def __call__(self, context, callback):\n",
    "        callback(((\"cookie\", f\"{self.cookie_name}={self.cookie_value}\"),), None)"
   ]
  },
  {
   "cell_type": "code",
   "execution_count": null,
   "id": "536b1ab4",
   "metadata": {},
   "outputs": [],
   "source": [
    "def create_channel(api_key, server_address=\"api.couchers.org:8443\"):\n",
    "    channel_creds = grpc.ssl_channel_credentials()\n",
    "    cookie_creds = grpc.metadata_call_credentials(CookieCreds(\"couchers-sesh\", api_key))\n",
    "    creds = grpc.composite_channel_credentials(channel_creds, cookie_creds)\n",
    "    return grpc.secure_channel(server_address, creds)"
   ]
  },
  {
   "cell_type": "code",
   "execution_count": null,
   "id": "f969a66e",
   "metadata": {},
   "outputs": [],
   "source": [
    "# paste cookie here:\n",
    "api_key = \"e22...a4f\""
   ]
  },
  {
   "cell_type": "code",
   "execution_count": null,
   "id": "a4d51347",
   "metadata": {},
   "outputs": [],
   "source": [
    "channel = create_channel(api_key, \"dev-api.couchershq.org:8443\")"
   ]
  },
  {
   "cell_type": "code",
   "execution_count": null,
   "id": "774a0d3a",
   "metadata": {},
   "outputs": [],
   "source": [
    "events = events_pb2_grpc.EventsStub(channel)"
   ]
  },
  {
   "cell_type": "code",
   "execution_count": null,
   "id": "72ff4c11",
   "metadata": {},
   "outputs": [],
   "source": [
    "start = utc.localize(datetime(2021, 7, 4, 19, 0, 0))\n",
    "end = start + timedelta(hours=1)\n",
    "\n",
    "res = events.CreateEvent(events_pb2.CreateEventReq(\n",
    "  title=\"Weekly Online Event (Tuesday)\",\n",
    "  content=\"Hello! We are running this online weekly event tailored to fit European, Asian, and Oceanian time zones. As usual, please respond to let us know if there is a better time that would suit you, as this time slot is flexible :). Or, you maybe be able to attend [our other weekly event time](TODO).\",\n",
    "  online_information=events_pb2.OnlineEventInformation(link=\"https://couchers.org/weekly-social\"),\n",
    "  parent_community_id=1,\n",
    "  start_time=Timestamp_from_datetime(start),\n",
    "  end_time=Timestamp_from_datetime(end),\n",
    "  timezone=\"UTC\",\n",
    "))\n",
    "\n",
    "events.TransferEvent(\n",
    "    events_pb2.TransferEventReq(\n",
    "        event_id=res.event_id,\n",
    "        new_owner_community_id=1,\n",
    "    )\n",
    ")"
   ]
  }
 ],
 "metadata": {
  "kernelspec": {
   "display_name": "couchers",
   "language": "python",
   "name": "couchers"
  },
  "language_info": {
   "codemirror_mode": {
    "name": "ipython",
    "version": 3
   },
   "file_extension": ".py",
   "mimetype": "text/x-python",
   "name": "python",
   "nbconvert_exporter": "python",
   "pygments_lexer": "ipython3",
   "version": "3.8.10"
  }
 },
 "nbformat": 4,
 "nbformat_minor": 5
}
